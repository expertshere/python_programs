{
 "cells": [
  {
   "cell_type": "code",
   "execution_count": 1,
   "id": "02df6043",
   "metadata": {},
   "outputs": [
    {
     "name": "stdout",
     "output_type": "stream",
     "text": [
      "guess the num1:3\n",
      "guess the num2:7\n",
      "guess the num3:2\n",
      "guess the num4:33\n",
      "guess the num5:87\n",
      "61\n",
      "game over!you ran out of guesses\n"
     ]
    }
   ],
   "source": [
    "# Guessing game \n",
    "import random\n",
    "num=random.randint(1,100)\n",
    "attempt1=int(input(\"guess the num1:\"))\n",
    "attempt2=int(input(\"guess the num2:\"))\n",
    "attempt3=int(input(\"guess the num3:\"))\n",
    "attempt4=int(input(\"guess the num4:\"))\n",
    "attempt5=int(input(\"guess the num5:\"))\n",
    "print(num)\n",
    "if num==(random.randint(1,100)):\n",
    "    print(\"congratulation!you guessed the number\")\n",
    "else:\n",
    "    print(\"game over!you ran out of guesses\")"
   ]
  },
  {
   "cell_type": "code",
   "execution_count": 8,
   "id": "32aa005b",
   "metadata": {},
   "outputs": [
    {
     "name": "stdout",
     "output_type": "stream",
     "text": [
      "enter the number:5\n",
      "factorial of given number is 120\n"
     ]
    }
   ],
   "source": [
    "# Question no 2\n",
    "num=int(input(\"enter the number:\"))\n",
    "\n",
    "fact=1\n",
    "if num<0:\n",
    "    print(\"factorial of 0 doen not exit\")\n",
    "if num ==0:\n",
    "    print(\"factorial of 0 is\",1)\n",
    "if num >0:\n",
    "    for i in range(1,num+1):\n",
    "        fact=fact*i\n",
    "print(\"factorial of given number is\",fact)\n",
    "if num==\"-\":\n",
    "     print(\"not defined\")\n",
    "\n"
   ]
  },
  {
   "cell_type": "code",
   "execution_count": 13,
   "id": "a9541890",
   "metadata": {},
   "outputs": [
    {
     "name": "stdout",
     "output_type": "stream",
     "text": [
      "enter the number of people:2\n",
      "enter the cost if item1:90\n",
      "enter the cost of item2:120\n",
      "enter the sale tax percentage:23\n",
      "enter the tip percentage:11\n",
      "total cost of food is 210\n",
      "total sale tax is 48.300000000000004\n",
      "total tip amount is 23.1\n",
      "total bill is 281.40000000000003\n",
      "total bill per person 140.70000000000002\n"
     ]
    }
   ],
   "source": [
    "# Restaurant bill calculator\n",
    "num=int(input(\"enter the number of people:\"))\n",
    "item1=int(input(\"enter the cost if item1:\"))\n",
    "item2=int(input(\"enter the cost of item2:\"))\n",
    "tax_percentage=int(input(\"enter the sale tax percentage:\"))\n",
    "tip_percentage=int(input(\"enter the tip percentage:\"))\n",
    "total_cost=(item1+item2)\n",
    "print(\"total cost of food is\",total_cost)\n",
    "sale_tax=(total_cost*(tax_percentage/100))\n",
    "print(\"total sale tax is\",sale_tax)\n",
    "tip_amount=(total_cost*(tip_percentage/100))\n",
    "print(\"total tip amount is\",tip_amount)\n",
    "total_bill=(total_cost+sale_tax+tip_amount)\n",
    "print(\"total bill is\",total_bill)\n",
    "bill_per_person=(total_bill/num)\n",
    "print(\"total bill per person\",bill_per_person )"
   ]
  },
  {
   "cell_type": "code",
   "execution_count": null,
   "id": "d2da3f27",
   "metadata": {},
   "outputs": [],
   "source": [
    "# Question no 1\n",
    "num1=int(input(\"enter the number:\"))\n",
    "num2=int(input(\"enter the number:\"))\n",
    "sum_of_squares=(num1*num1+num2*num2)\n",
    "if (num1) and (num2)%2==0:\n",
    "    print(\"calculations is not performed\")\n",
    "else:\n",
    "    print(sum_of_squares)\n"
   ]
  },
  {
   "cell_type": "code",
   "execution_count": null,
   "id": "24ed28a2",
   "metadata": {},
   "outputs": [],
   "source": []
  }
 ],
 "metadata": {
  "kernelspec": {
   "display_name": "Python 3 (ipykernel)",
   "language": "python",
   "name": "python3"
  },
  "language_info": {
   "codemirror_mode": {
    "name": "ipython",
    "version": 3
   },
   "file_extension": ".py",
   "mimetype": "text/x-python",
   "name": "python",
   "nbconvert_exporter": "python",
   "pygments_lexer": "ipython3",
   "version": "3.11.5"
  }
 },
 "nbformat": 4,
 "nbformat_minor": 5
}
